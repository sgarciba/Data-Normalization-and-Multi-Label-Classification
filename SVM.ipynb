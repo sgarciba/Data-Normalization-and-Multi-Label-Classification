{
 "cells": [
  {
   "cell_type": "markdown",
   "metadata": {},
   "source": [
    "# WINE DATASET"
   ]
  },
  {
   "cell_type": "markdown",
   "metadata": {},
   "source": [
    "__1. IMPORT DATA__"
   ]
  },
  {
   "cell_type": "code",
   "execution_count": 1,
   "metadata": {},
   "outputs": [],
   "source": [
    "# Load the data set\n",
    "from sklearn.datasets import load_wine\n",
    "import matplotlib.pyplot as plt\n",
    "import pandas as pd\n",
    "from pandas import DataFrame\n",
    "import numpy as np\n",
    "%matplotlib inline\n",
    "data_wine = load_wine()"
   ]
  },
  {
   "cell_type": "code",
   "execution_count": 2,
   "metadata": {},
   "outputs": [
    {
     "name": "stdout",
     "output_type": "stream",
     "text": [
      "XData: (178, 13)\n",
      "YData: (178,)\n"
     ]
    }
   ],
   "source": [
    "print(\"XData:\",data_wine.data.shape)\n",
    "print(\"YData:\",data_wine.target.shape)"
   ]
  },
  {
   "cell_type": "code",
   "execution_count": 3,
   "metadata": {},
   "outputs": [
    {
     "data": {
      "text/html": [
       "<div>\n",
       "<style scoped>\n",
       "    .dataframe tbody tr th:only-of-type {\n",
       "        vertical-align: middle;\n",
       "    }\n",
       "\n",
       "    .dataframe tbody tr th {\n",
       "        vertical-align: top;\n",
       "    }\n",
       "\n",
       "    .dataframe thead th {\n",
       "        text-align: right;\n",
       "    }\n",
       "</style>\n",
       "<table border=\"1\" class=\"dataframe\">\n",
       "  <thead>\n",
       "    <tr style=\"text-align: right;\">\n",
       "      <th></th>\n",
       "      <th>alcohol</th>\n",
       "      <th>malic_acid</th>\n",
       "      <th>ash</th>\n",
       "      <th>alcalinity_of_ash</th>\n",
       "      <th>magnesium</th>\n",
       "      <th>total_phenols</th>\n",
       "      <th>flavanoids</th>\n",
       "      <th>nonflavanoid_phenols</th>\n",
       "      <th>proanthocyanins</th>\n",
       "      <th>color_intensity</th>\n",
       "      <th>hue</th>\n",
       "      <th>od280/od315_of_diluted_wines</th>\n",
       "      <th>proline</th>\n",
       "      <th>target</th>\n",
       "    </tr>\n",
       "  </thead>\n",
       "  <tbody>\n",
       "    <tr>\n",
       "      <th>0</th>\n",
       "      <td>14.23</td>\n",
       "      <td>1.71</td>\n",
       "      <td>2.43</td>\n",
       "      <td>15.6</td>\n",
       "      <td>127.0</td>\n",
       "      <td>2.80</td>\n",
       "      <td>3.06</td>\n",
       "      <td>0.28</td>\n",
       "      <td>2.29</td>\n",
       "      <td>5.64</td>\n",
       "      <td>1.04</td>\n",
       "      <td>3.92</td>\n",
       "      <td>1065.0</td>\n",
       "      <td>0.0</td>\n",
       "    </tr>\n",
       "    <tr>\n",
       "      <th>1</th>\n",
       "      <td>13.20</td>\n",
       "      <td>1.78</td>\n",
       "      <td>2.14</td>\n",
       "      <td>11.2</td>\n",
       "      <td>100.0</td>\n",
       "      <td>2.65</td>\n",
       "      <td>2.76</td>\n",
       "      <td>0.26</td>\n",
       "      <td>1.28</td>\n",
       "      <td>4.38</td>\n",
       "      <td>1.05</td>\n",
       "      <td>3.40</td>\n",
       "      <td>1050.0</td>\n",
       "      <td>0.0</td>\n",
       "    </tr>\n",
       "    <tr>\n",
       "      <th>2</th>\n",
       "      <td>13.16</td>\n",
       "      <td>2.36</td>\n",
       "      <td>2.67</td>\n",
       "      <td>18.6</td>\n",
       "      <td>101.0</td>\n",
       "      <td>2.80</td>\n",
       "      <td>3.24</td>\n",
       "      <td>0.30</td>\n",
       "      <td>2.81</td>\n",
       "      <td>5.68</td>\n",
       "      <td>1.03</td>\n",
       "      <td>3.17</td>\n",
       "      <td>1185.0</td>\n",
       "      <td>0.0</td>\n",
       "    </tr>\n",
       "    <tr>\n",
       "      <th>3</th>\n",
       "      <td>14.37</td>\n",
       "      <td>1.95</td>\n",
       "      <td>2.50</td>\n",
       "      <td>16.8</td>\n",
       "      <td>113.0</td>\n",
       "      <td>3.85</td>\n",
       "      <td>3.49</td>\n",
       "      <td>0.24</td>\n",
       "      <td>2.18</td>\n",
       "      <td>7.80</td>\n",
       "      <td>0.86</td>\n",
       "      <td>3.45</td>\n",
       "      <td>1480.0</td>\n",
       "      <td>0.0</td>\n",
       "    </tr>\n",
       "    <tr>\n",
       "      <th>4</th>\n",
       "      <td>13.24</td>\n",
       "      <td>2.59</td>\n",
       "      <td>2.87</td>\n",
       "      <td>21.0</td>\n",
       "      <td>118.0</td>\n",
       "      <td>2.80</td>\n",
       "      <td>2.69</td>\n",
       "      <td>0.39</td>\n",
       "      <td>1.82</td>\n",
       "      <td>4.32</td>\n",
       "      <td>1.04</td>\n",
       "      <td>2.93</td>\n",
       "      <td>735.0</td>\n",
       "      <td>0.0</td>\n",
       "    </tr>\n",
       "  </tbody>\n",
       "</table>\n",
       "</div>"
      ],
      "text/plain": [
       "   alcohol  malic_acid   ash  alcalinity_of_ash  magnesium  total_phenols  \\\n",
       "0    14.23        1.71  2.43               15.6      127.0           2.80   \n",
       "1    13.20        1.78  2.14               11.2      100.0           2.65   \n",
       "2    13.16        2.36  2.67               18.6      101.0           2.80   \n",
       "3    14.37        1.95  2.50               16.8      113.0           3.85   \n",
       "4    13.24        2.59  2.87               21.0      118.0           2.80   \n",
       "\n",
       "   flavanoids  nonflavanoid_phenols  proanthocyanins  color_intensity   hue  \\\n",
       "0        3.06                  0.28             2.29             5.64  1.04   \n",
       "1        2.76                  0.26             1.28             4.38  1.05   \n",
       "2        3.24                  0.30             2.81             5.68  1.03   \n",
       "3        3.49                  0.24             2.18             7.80  0.86   \n",
       "4        2.69                  0.39             1.82             4.32  1.04   \n",
       "\n",
       "   od280/od315_of_diluted_wines  proline  target  \n",
       "0                          3.92   1065.0     0.0  \n",
       "1                          3.40   1050.0     0.0  \n",
       "2                          3.17   1185.0     0.0  \n",
       "3                          3.45   1480.0     0.0  \n",
       "4                          2.93    735.0     0.0  "
      ]
     },
     "execution_count": 3,
     "metadata": {},
     "output_type": "execute_result"
    }
   ],
   "source": [
    "wines = np.append(data_wine.data, data_wine.target[:,None], axis=1)\n",
    "wine_df = pd.DataFrame(wines, columns=data_wine['feature_names']+['target'])\n",
    "wine_df.head()"
   ]
  },
  {
   "cell_type": "code",
   "execution_count": 4,
   "metadata": {},
   "outputs": [
    {
     "name": "stdout",
     "output_type": "stream",
     "text": [
      ".. _wine_dataset:\n",
      "\n",
      "Wine recognition dataset\n",
      "------------------------\n",
      "\n",
      "**Data Set Characteristics:**\n",
      "\n",
      "    :Number of Instances: 178 (50 in each of three classes)\n",
      "    :Number of Attributes: 13 numeric, predictive attributes and the class\n",
      "    :Attribute Information:\n",
      " \t\t- Alcohol\n",
      " \t\t- Malic acid\n",
      " \t\t- Ash\n",
      "\t\t- Alcalinity of ash  \n",
      " \t\t- Magnesium\n",
      "\t\t- Total phenols\n",
      " \t\t- Flavanoids\n",
      " \t\t- Nonflavanoid phenols\n",
      " \t\t- Proanthocyanins\n",
      "\t\t- Color intensity\n",
      " \t\t- Hue\n",
      " \t\t- OD280/OD315 of diluted wines\n",
      " \t\t- Proline\n",
      "\n",
      "    - class:\n",
      "            - class_0\n",
      "            - class_1\n",
      "            - class_2\n",
      "\t\t\n",
      "    :Summary Statistics:\n",
      "    \n",
      "    ============================= ==== ===== ======= =====\n",
      "                                   Min   Max   Mean     SD\n",
      "    ============================= ==== ===== ======= =====\n",
      "    Alcohol:                      11.0  14.8    13.0   0.8\n",
      "    Malic Acid:                   0.74  5.80    2.34  1.12\n",
      "    Ash:                          1.36  3.23    2.36  0.27\n",
      "    Alcalinity of Ash:            10.6  30.0    19.5   3.3\n",
      "    Magnesium:                    70.0 162.0    99.7  14.3\n",
      "    Total Phenols:                0.98  3.88    2.29  0.63\n",
      "    Flavanoids:                   0.34  5.08    2.03  1.00\n",
      "    Nonflavanoid Phenols:         0.13  0.66    0.36  0.12\n",
      "    Proanthocyanins:              0.41  3.58    1.59  0.57\n",
      "    Colour Intensity:              1.3  13.0     5.1   2.3\n",
      "    Hue:                          0.48  1.71    0.96  0.23\n",
      "    OD280/OD315 of diluted wines: 1.27  4.00    2.61  0.71\n",
      "    Proline:                       278  1680     746   315\n",
      "    ============================= ==== ===== ======= =====\n",
      "\n",
      "    :Missing Attribute Values: None\n",
      "    :Class Distribution: class_0 (59), class_1 (71), class_2 (48)\n",
      "    :Creator: R.A. Fisher\n",
      "    :Donor: Michael Marshall (MARSHALL%PLU@io.arc.nasa.gov)\n",
      "    :Date: July, 1988\n",
      "\n",
      "This is a copy of UCI ML Wine recognition datasets.\n",
      "https://archive.ics.uci.edu/ml/machine-learning-databases/wine/wine.data\n",
      "\n",
      "The data is the results of a chemical analysis of wines grown in the same\n",
      "region in Italy by three different cultivators. There are thirteen different\n",
      "measurements taken for different constituents found in the three types of\n",
      "wine.\n",
      "\n",
      "Original Owners: \n",
      "\n",
      "Forina, M. et al, PARVUS - \n",
      "An Extendible Package for Data Exploration, Classification and Correlation. \n",
      "Institute of Pharmaceutical and Food Analysis and Technologies,\n",
      "Via Brigata Salerno, 16147 Genoa, Italy.\n",
      "\n",
      "Citation:\n",
      "\n",
      "Lichman, M. (2013). UCI Machine Learning Repository\n",
      "[https://archive.ics.uci.edu/ml]. Irvine, CA: University of California,\n",
      "School of Information and Computer Science. \n",
      "\n",
      ".. topic:: References\n",
      "\n",
      "  (1) S. Aeberhard, D. Coomans and O. de Vel, \n",
      "  Comparison of Classifiers in High Dimensional Settings, \n",
      "  Tech. Rep. no. 92-02, (1992), Dept. of Computer Science and Dept. of  \n",
      "  Mathematics and Statistics, James Cook University of North Queensland. \n",
      "  (Also submitted to Technometrics). \n",
      "\n",
      "  The data was used with many others for comparing various \n",
      "  classifiers. The classes are separable, though only RDA \n",
      "  has achieved 100% correct classification. \n",
      "  (RDA : 100%, QDA 99.4%, LDA 98.9%, 1NN 96.1% (z-transformed data)) \n",
      "  (All results using the leave-one-out technique) \n",
      "\n",
      "  (2) S. Aeberhard, D. Coomans and O. de Vel, \n",
      "  \"THE CLASSIFICATION PERFORMANCE OF RDA\" \n",
      "  Tech. Rep. no. 92-01, (1992), Dept. of Computer Science and Dept. of \n",
      "  Mathematics and Statistics, James Cook University of North Queensland. \n",
      "  (Also submitted to Journal of Chemometrics).\n",
      "\n"
     ]
    }
   ],
   "source": [
    "# More information about the data\n",
    "print(data_wine.DESCR)"
   ]
  },
  {
   "cell_type": "markdown",
   "metadata": {},
   "source": [
    "__2. SPLIT DATA RANDOMLY INTO TRAINING AND TEST SET__"
   ]
  },
  {
   "cell_type": "code",
   "execution_count": 5,
   "metadata": {},
   "outputs": [],
   "source": [
    "#Split the data set into training and test set randomly\n",
    "from sklearn.model_selection import train_test_split\n",
    "\n",
    "X_train, X_test, y_train, y_test = train_test_split(data_wine.data, data_wine.target, random_state=203)"
   ]
  },
  {
   "cell_type": "code",
   "execution_count": 6,
   "metadata": {},
   "outputs": [
    {
     "name": "stdout",
     "output_type": "stream",
     "text": [
      "X_train: (133, 13)\n",
      "X_test: (45, 13)\n",
      "y_train: (133,)\n",
      "y_test: (45,)\n"
     ]
    }
   ],
   "source": [
    "print(\"X_train:\",X_train.shape)\n",
    "print(\"X_test:\",X_test.shape)\n",
    "print(\"y_train:\",y_train.shape)\n",
    "print(\"y_test:\",y_test.shape)"
   ]
  },
  {
   "cell_type": "markdown",
   "metadata": {},
   "source": [
    "__3. SUPPORT VECTOR MACHINE MODEL WITHOUT NORMALIZATION__"
   ]
  },
  {
   "cell_type": "code",
   "execution_count": 7,
   "metadata": {},
   "outputs": [],
   "source": [
    "#Perform SVM using cross-validation on the training set. \n",
    "#Use the default parameters of C=1.0 and gamma=1/n_features\n",
    "from sklearn.model_selection import cross_val_score\n",
    "from sklearn.svm import SVC\n",
    "\n",
    "#train a SVC\n",
    "svm = SVC()\n",
    "#perform cross-validation\n",
    "scores = cross_val_score(svm, X_train, y_train, cv=5)\n",
    "#compute mean cross-validation accuracy\n",
    "score = np.mean(scores)\n",
    "svm.fit(X_train, y_train)\n",
    "test_score = svm.score(X_test, y_test)"
   ]
  },
  {
   "cell_type": "code",
   "execution_count": 8,
   "metadata": {},
   "outputs": [
    {
     "name": "stdout",
     "output_type": "stream",
     "text": [
      "SVM generalization accuracy: 0.6695\n",
      "Test error rate (default parameters): 0.3556\n"
     ]
    }
   ],
   "source": [
    "#Accuracy of SVM on the training set\n",
    "print(\"SVM generalization accuracy:\", round(score,4))\n",
    "\n",
    "#Find test error rate of the SVM using default parameters\n",
    "print(\"Test error rate (default parameters):\", round(1-test_score, 4))"
   ]
  },
  {
   "cell_type": "markdown",
   "metadata": {},
   "source": [
    "__4. SUPPORT VECTOR MACHINE WITH DATA NORMALIZATION__"
   ]
  },
  {
   "cell_type": "code",
   "execution_count": 9,
   "metadata": {},
   "outputs": [],
   "source": [
    "#Apply pipeline to normalize the data and perform CV . \n",
    "from sklearn.model_selection import GridSearchCV\n",
    "from sklearn.preprocessing import MinMaxScaler\n",
    "from sklearn.preprocessing import Normalizer\n",
    "from sklearn.preprocessing import StandardScaler\n",
    "from sklearn.preprocessing import RobustScaler\n",
    "from sklearn.pipeline import make_pipeline"
   ]
  },
  {
   "cell_type": "code",
   "execution_count": 10,
   "metadata": {},
   "outputs": [
    {
     "name": "stdout",
     "output_type": "stream",
     "text": [
      "\n",
      "__For MinMaxScaler(copy=True, feature_range=(0, 1)):\n",
      "Best cross-validation accuracy: 0.9852\n",
      "Best parameters: {'svc__C': 1, 'svc__gamma': 0.1}\n",
      "Test score: 0.9778\n",
      "\n",
      "__For Normalizer(copy=True, norm='l2'):\n",
      "Best cross-validation accuracy: 0.9407\n",
      "Best parameters: {'svc__C': 100, 'svc__gamma': 100}\n",
      "Test score: 1.0\n",
      "\n",
      "__For StandardScaler(copy=True, with_mean=True, with_std=True):\n",
      "Best cross-validation accuracy: 0.9701\n",
      "Best parameters: {'svc__C': 1, 'svc__gamma': 0.01}\n",
      "Test score: 0.9556\n",
      "\n",
      "__For RobustScaler(copy=True, quantile_range=(25.0, 75.0), with_centering=True,\n",
      "             with_scaling=True):\n",
      "Best cross-validation accuracy: 0.9849\n",
      "Best parameters: {'svc__C': 10, 'svc__gamma': 0.001}\n",
      "Test score: 0.9556\n"
     ]
    }
   ],
   "source": [
    "#Test Scores for each standarize methods\n",
    "param_grid = {\"svc__C\": [0.01, 0.1, 1, 10, 100], \"svc__gamma\": [0.001, 0.01, 0.1, 1, 10, 100]}\n",
    "norm = [MinMaxScaler(), Normalizer(), StandardScaler(), RobustScaler()]\n",
    "y = []\n",
    "CV_y = []\n",
    "for i in norm:\n",
    "    pipe = make_pipeline(i, SVC())\n",
    "    grid = GridSearchCV(pipe, param_grid=param_grid, cv =5)\n",
    "    grid.fit(X_train, y_train)\n",
    "    score = grid.score(X_test, y_test)\n",
    "    y.append(score)\n",
    "    CV_y.append(grid.best_score_)\n",
    "    print(f\"\\n__For {i}:\")\n",
    "    print(\"Best cross-validation accuracy:\", round(grid.best_score_,4))\n",
    "    print(\"Best parameters:\", grid.best_params_)\n",
    "    print(\"Test score:\", round(score,4))"
   ]
  },
  {
   "cell_type": "code",
   "execution_count": 11,
   "metadata": {},
   "outputs": [
    {
     "data": {
      "image/png": "[encoded data removed]",
      "text/plain": [
       "<Figure size 432x288 with 1 Axes>"
      ]
     },
     "metadata": {},
     "output_type": "display_data"
    }
   ],
   "source": [
    "# Plot the results for SVM\n",
    "x_name = ['MinMaxScaler', 'Normalizer', 'StandardScaler', 'RobustScaler']\n",
    "plt.scatter(x_name, y, color='blue')\n",
    "plt.scatter(x_name,CV_y, color='red')\n",
    "plt.title('SVM performance by standarize methods')\n",
    "plt.ylabel('Accuracy')\n",
    "plt.legend(['Test accuracy', 'Best CV accuracy'])\n",
    "plt.ylim([0.9,1.05])\n",
    "plt.show()"
   ]
  },
  {
   "cell_type": "markdown",
   "metadata": {},
   "source": [
    "__5. MULTI-LAYER PERCEPTRON CLASSIFIER__"
   ]
  },
  {
   "cell_type": "code",
   "execution_count": 12,
   "metadata": {},
   "outputs": [],
   "source": [
    "# Hide warnings\n",
    "import warnings\n",
    "warnings.filterwarnings('ignore')"
   ]
  },
  {
   "cell_type": "code",
   "execution_count": 13,
   "metadata": {},
   "outputs": [
    {
     "name": "stdout",
     "output_type": "stream",
     "text": [
      "Generalization accuracy for mlp: 0.6168\n"
     ]
    }
   ],
   "source": [
    "from sklearn.neural_network import MLPClassifier\n",
    "mlp = MLPClassifier()\n",
    "# Get generalization accuracy\n",
    "scores = cross_val_score(mlp, X_train, y_train, cv=5)\n",
    "print(\"Generalization accuracy for mlp:\", round(np.mean(scores),4))"
   ]
  },
  {
   "cell_type": "code",
   "execution_count": 14,
   "metadata": {},
   "outputs": [
    {
     "name": "stdout",
     "output_type": "stream",
     "text": [
      "Test score for mlp: 0.6667\n"
     ]
    }
   ],
   "source": [
    "#Test set score\n",
    "mlp.fit(X_train, y_train)\n",
    "pred = mlp.predict(X_test)\n",
    "print(\"Test score for mlp:\", round(np.mean(y_test == pred),4))"
   ]
  },
  {
   "cell_type": "code",
   "execution_count": 15,
   "metadata": {},
   "outputs": [
    {
     "name": "stdout",
     "output_type": "stream",
     "text": [
      "\n",
      "__For MinMaxScaler(copy=True, feature_range=(0, 1)):\n",
      "Best cross-validation accuracy: 0.9852\n",
      "Best parameters: {'mlpclassifier__alpha': 10, 'mlpclassifier__beta_1': 0.009}\n",
      "Test score: 0.9778\n",
      "\n",
      "__For Normalizer(copy=True, norm='l2'):\n",
      "Best cross-validation accuracy: 0.6695\n",
      "Best parameters: {'mlpclassifier__alpha': 0.1, 'mlpclassifier__beta_1': 0.9}\n",
      "Test score: 0.6889\n",
      "\n",
      "__For StandardScaler(copy=True, with_mean=True, with_std=True):\n",
      "Best cross-validation accuracy: 0.9701\n",
      "Best parameters: {'mlpclassifier__alpha': 0.01, 'mlpclassifier__beta_1': 0.09}\n",
      "Test score: 0.9333\n",
      "\n",
      "__For RobustScaler(copy=True, quantile_range=(25.0, 75.0), with_centering=True,\n",
      "             with_scaling=True):\n",
      "Best cross-validation accuracy: 0.9701\n",
      "Best parameters: {'mlpclassifier__alpha': 0.1, 'mlpclassifier__beta_1': 0.009}\n",
      "Test score: 0.9778\n"
     ]
    }
   ],
   "source": [
    "# MLP using different standarize methods\n",
    "param_grid = {\"mlpclassifier__alpha\": [0.01, 0.1, 1, 10, 100], \"mlpclassifier__beta_1\": [0.009, 0.09, 0.9]}\n",
    "y = []\n",
    "CV_y = []\n",
    "for i in norm:\n",
    "    pipe2 = make_pipeline(i, MLPClassifier())\n",
    "    grid2 = GridSearchCV(pipe2, param_grid=param_grid, cv =5)\n",
    "    grid2.fit(X_train, y_train)\n",
    "    y.append(grid2.score(X_test, y_test))\n",
    "    CV_y.append(grid2.best_score_)\n",
    "    print(f'\\n__For {i}:')\n",
    "    print(\"Best cross-validation accuracy:\", round(grid2.best_score_,4))\n",
    "    print(\"Best parameters:\", grid2.best_params_)\n",
    "    print(\"Test score:\", round(grid2.score(X_test, y_test),4))"
   ]
  },
  {
   "cell_type": "code",
   "execution_count": 16,
   "metadata": {},
   "outputs": [
    {
     "data": {
      "image/png": "[encoded data removed]",
      "text/plain": [
       "<Figure size 432x288 with 1 Axes>"
      ]
     },
     "metadata": {},
     "output_type": "display_data"
    }
   ],
   "source": [
    "# Plot the results for MLP\n",
    "plt.scatter(x_name, y, color='blue')\n",
    "plt.scatter(x_name,CV_y, color='red')\n",
    "plt.title('MLP performance by standarize methods')\n",
    "plt.ylabel('Accuracy')\n",
    "plt.legend(['Test accuracy', 'Best CV accuracy'])\n",
    "plt.ylim([0.5,1.05])\n",
    "plt.show()"
   ]
  },
  {
   "cell_type": "markdown",
   "metadata": {},
   "source": [
    "# HANDWRITTEN DIGITS DATASET"
   ]
  },
  {
   "cell_type": "markdown",
   "metadata": {},
   "source": [
    "__1. IMPORT DATA__"
   ]
  },
  {
   "cell_type": "code",
   "execution_count": 17,
   "metadata": {},
   "outputs": [
    {
     "name": "stdout",
     "output_type": "stream",
     "text": [
      "Original train: (7291, 257)\n",
      "Original test: (2007, 257)\n"
     ]
    }
   ],
   "source": [
    "#Load the USPS datasets (train and test) and inspect its format\n",
    "train = np.genfromtxt(\"zip.train\")\n",
    "test = np.genfromtxt(\"zip.test\")\n",
    "print(\"Original train:\",train.shape)\n",
    "print(\"Original test:\",test.shape)"
   ]
  },
  {
   "cell_type": "code",
   "execution_count": 18,
   "metadata": {},
   "outputs": [
    {
     "data": {
      "image/png": "[encoded data removed]",
      "text/plain": [
       "<Figure size 720x360 with 4 Axes>"
      ]
     },
     "metadata": {},
     "output_type": "display_data"
    }
   ],
   "source": [
    "# Plot four random samples\n",
    "import random\n",
    "plt.figure(figsize= (10,5))\n",
    "idx = list(range(len(train)))\n",
    "list_idx = random.sample(idx,4)\n",
    "for i in range(len(list_idx)):\n",
    "    train[list_idx[i],1:]\n",
    "    x  = np.reshape(train[list_idx[i],1:], (16,16))\n",
    "    plt.subplot(1,4,i+1)\n",
    "    plt.imshow(x, cmap='gray_r')\n",
    "    plt.title('Digit Label: {}'.format(train[list_idx[i],0]))\n",
    "plt.show()"
   ]
  },
  {
   "cell_type": "code",
   "execution_count": 19,
   "metadata": {},
   "outputs": [
    {
     "name": "stdout",
     "output_type": "stream",
     "text": [
      "Original data shape: (9298, 257)\n"
     ]
    }
   ],
   "source": [
    "#Join both datasets into one\n",
    "data = np.concatenate((train,test),axis=0)\n",
    "print(\"Original data shape:\",data.shape)"
   ]
  },
  {
   "cell_type": "markdown",
   "metadata": {},
   "source": [
    "__2. SPLIT DATA RANDOMLY INTO TRAINING AND TEST SET__"
   ]
  },
  {
   "cell_type": "code",
   "execution_count": 20,
   "metadata": {},
   "outputs": [],
   "source": [
    "#Split the data set into training and test set randomly\n",
    "X_train, X_test, y_train, y_test = train_test_split(data[:,1:], data[:,0], random_state=203)"
   ]
  },
  {
   "cell_type": "code",
   "execution_count": 21,
   "metadata": {},
   "outputs": [
    {
     "name": "stdout",
     "output_type": "stream",
     "text": [
      "X_train: (6973, 256)\n",
      "X_test: (2325, 256)\n",
      "y_train: (6973,)\n",
      "y_test: (2325,)\n"
     ]
    }
   ],
   "source": [
    "print(\"X_train:\",X_train.shape)\n",
    "print(\"X_test:\",X_test.shape)\n",
    "print(\"y_train:\",y_train.shape)\n",
    "print(\"y_test:\",y_test.shape)"
   ]
  },
  {
   "cell_type": "markdown",
   "metadata": {},
   "source": [
    "__3. SUPPORT VECTOR MACHINE MODEL WITHOUT NORMALIZATION__"
   ]
  },
  {
   "cell_type": "code",
   "execution_count": 22,
   "metadata": {},
   "outputs": [],
   "source": [
    "#Perform SVM using cross-validation on the training set. \n",
    "#Use the default parameters of C=1.0 and gamma=1/n_features\n",
    "\n",
    "#train a SVC\n",
    "svm = SVC()\n",
    "#perform cross-validation\n",
    "scores = cross_val_score(svm, X_train, y_train, cv=5)\n",
    "#compute mean cross-validation accuracy\n",
    "score = np.mean(scores)\n",
    "svm.fit(X_train, y_train)\n",
    "test_score = svm.score(X_test, y_test)"
   ]
  },
  {
   "cell_type": "code",
   "execution_count": 23,
   "metadata": {},
   "outputs": [
    {
     "name": "stdout",
     "output_type": "stream",
     "text": [
      "SVM generalization accuracy: 0.9716\n",
      "Test error rate (default parameters): 0.0292\n"
     ]
    }
   ],
   "source": [
    "#Accuracy of SVM on the training set\n",
    "print(\"SVM generalization accuracy:\", round(score,4))\n",
    "\n",
    "#Find test error rate of the SVM using default parameters\n",
    "print(\"Test error rate (default parameters):\", round(1-test_score,4))"
   ]
  },
  {
   "cell_type": "markdown",
   "metadata": {},
   "source": [
    "__4. SUPPORT VECTOR MACHINE WITH DATA NORMALIZATION__"
   ]
  },
  {
   "cell_type": "code",
   "execution_count": 24,
   "metadata": {},
   "outputs": [
    {
     "name": "stderr",
     "output_type": "stream",
     "text": [
      "\r",
      "  0%|          | 0/4 [00:00<?, ?it/s]"
     ]
    },
    {
     "name": "stdout",
     "output_type": "stream",
     "text": [
      "\n",
      "__For MinMaxScaler(copy=True, feature_range=(0, 1)):\n",
      "Best cross-validation accuracy: 0.9611\n",
      "Best parameters: {'svc__C': 1, 'svc__gamma': 0.01}\n"
     ]
    },
    {
     "name": "stderr",
     "output_type": "stream",
     "text": [
      "\r",
      " 25%|██▌       | 1/4 [06:09<18:27, 369.20s/it]"
     ]
    },
    {
     "name": "stdout",
     "output_type": "stream",
     "text": [
      "Test score: 0.957\n",
      "\n",
      "__For Normalizer(copy=True, norm='l2'):\n",
      "Best cross-validation accuracy: 0.9667\n",
      "Best parameters: {'svc__C': 1, 'svc__gamma': 1}\n"
     ]
    },
    {
     "name": "stderr",
     "output_type": "stream",
     "text": [
      "\r",
      " 50%|█████     | 2/4 [11:23<11:45, 352.70s/it]"
     ]
    },
    {
     "name": "stdout",
     "output_type": "stream",
     "text": [
      "Test score: 0.9682\n",
      "\n",
      "__For StandardScaler(copy=True, with_mean=True, with_std=True):\n",
      "Best cross-validation accuracy: 0.9208\n",
      "Best parameters: {'svc__C': 1, 'svc__gamma': 0.01}\n"
     ]
    },
    {
     "name": "stderr",
     "output_type": "stream",
     "text": [
      "\r",
      " 75%|███████▌  | 3/4 [18:57<06:23, 383.02s/it]"
     ]
    },
    {
     "name": "stdout",
     "output_type": "stream",
     "text": [
      "Test score: 0.9338\n",
      "\n",
      "__For RobustScaler(copy=True, quantile_range=(25.0, 75.0), with_centering=True,\n",
      "             with_scaling=True):\n",
      "Best cross-validation accuracy: 0.7242\n",
      "Best parameters: {'svc__C': 1, 'svc__gamma': 0.01}\n"
     ]
    },
    {
     "name": "stderr",
     "output_type": "stream",
     "text": [
      "100%|██████████| 4/4 [26:50<00:00, 402.66s/it]"
     ]
    },
    {
     "name": "stdout",
     "output_type": "stream",
     "text": [
      "Test score: 0.7884\n"
     ]
    },
    {
     "name": "stderr",
     "output_type": "stream",
     "text": [
      "\n"
     ]
    }
   ],
   "source": [
    "#Test Scores for each standarize methods\n",
    "from tqdm import tqdm\n",
    "svm=SVC()\n",
    "param_grid2 = {\"svc__C\": [0.01, 0.1, 1], \"svc__gamma\": [0.01, 0.1, 1]}\n",
    "norm = [MinMaxScaler(), Normalizer(), StandardScaler(), RobustScaler()]\n",
    "\n",
    "y = []\n",
    "CV_y = []\n",
    "for i in tqdm(norm):\n",
    "    pipe = make_pipeline(i, SVC())\n",
    "    grid = GridSearchCV(pipe, param_grid=param_grid2, cv =3, refit = True)\n",
    "    grid.fit(X_train, y_train)\n",
    "    pred = grid.predict(X_test)\n",
    "    y.append(grid.score(X_test, y_test))\n",
    "    CV_y.append(grid.best_score_)\n",
    "    print(f'\\n__For {i}:')\n",
    "    print(\"Best cross-validation accuracy:\", round(grid.best_score_,4))\n",
    "    print(\"Best parameters:\", grid.best_params_)\n",
    "    print(\"Test score:\", round(grid.score(X_test, y_test),4))"
   ]
  },
  {
   "cell_type": "code",
   "execution_count": 25,
   "metadata": {},
   "outputs": [
    {
     "data": {
      "image/png": "[encoded data removed]",
      "text/plain": [
       "<Figure size 432x288 with 1 Axes>"
      ]
     },
     "metadata": {},
     "output_type": "display_data"
    }
   ],
   "source": [
    "# Plot the results for SVM\n",
    "plt.scatter(x_name, y, color='blue')\n",
    "plt.scatter(x_name,CV_y, color='red')\n",
    "plt.title('SVM performance by standarize methods')\n",
    "plt.ylabel('Accuracy')\n",
    "plt.legend(['Test accuracy', 'Best CV accuracy'])\n",
    "plt.ylim([0.7,1.05])\n",
    "plt.show()"
   ]
  },
  {
   "cell_type": "markdown",
   "metadata": {},
   "source": [
    "__5. MULTI-LAYER PERCEPTRON CLASSIFIER__"
   ]
  },
  {
   "cell_type": "code",
   "execution_count": 26,
   "metadata": {},
   "outputs": [
    {
     "name": "stdout",
     "output_type": "stream",
     "text": [
      "Generalization accuracy for mlp: 0.963\n",
      "Test score for mlp: 0.9639\n"
     ]
    }
   ],
   "source": [
    "# Get generalization accuracy\n",
    "scores = cross_val_score(mlp, X_train, y_train, cv=5)\n",
    "print(\"Generalization accuracy for mlp:\", round(np.mean(scores),4))\n",
    "\n",
    "#Test set score\n",
    "mlp.fit(X_train, y_train)\n",
    "pred = mlp.predict(X_test)\n",
    "print(\"Test score for mlp:\", round(np.mean(y_test == pred),4))"
   ]
  },
  {
   "cell_type": "code",
   "execution_count": 27,
   "metadata": {},
   "outputs": [
    {
     "name": "stderr",
     "output_type": "stream",
     "text": [
      " 25%|██▌       | 1/4 [04:09<12:28, 249.53s/it]"
     ]
    },
    {
     "name": "stdout",
     "output_type": "stream",
     "text": [
      "Best cross-validation accuracy: 0.9588\n",
      "Best parameters: {'mlpclassifier__alpha': 0.1, 'mlpclassifier__beta_1': 0.9}\n",
      "Test score: 0.9652\n"
     ]
    },
    {
     "name": "stderr",
     "output_type": "stream",
     "text": [
      "\r",
      " 50%|█████     | 2/4 [08:01<08:08, 244.23s/it]"
     ]
    },
    {
     "name": "stdout",
     "output_type": "stream",
     "text": [
      "Best cross-validation accuracy: 0.9478\n",
      "Best parameters: {'mlpclassifier__alpha': 0.1, 'mlpclassifier__beta_1': 0.009}\n",
      "Test score: 0.9531\n"
     ]
    },
    {
     "name": "stderr",
     "output_type": "stream",
     "text": [
      "\r",
      " 75%|███████▌  | 3/4 [12:41<04:14, 254.87s/it]"
     ]
    },
    {
     "name": "stdout",
     "output_type": "stream",
     "text": [
      "Best cross-validation accuracy: 0.963\n",
      "Best parameters: {'mlpclassifier__alpha': 0.1, 'mlpclassifier__beta_1': 0.9}\n",
      "Test score: 0.9656\n"
     ]
    },
    {
     "name": "stderr",
     "output_type": "stream",
     "text": [
      "100%|██████████| 4/4 [17:08<00:00, 257.18s/it]"
     ]
    },
    {
     "name": "stdout",
     "output_type": "stream",
     "text": [
      "Best cross-validation accuracy: 0.9465\n",
      "Best parameters: {'mlpclassifier__alpha': 0.1, 'mlpclassifier__beta_1': 0.009}\n",
      "Test score: 0.9557\n"
     ]
    },
    {
     "name": "stderr",
     "output_type": "stream",
     "text": [
      "\n"
     ]
    }
   ],
   "source": [
    "#MLP using standarize methods\n",
    "param_grid = {\"mlpclassifier__alpha\": [0.1, 1, 10], \"mlpclassifier__beta_1\": [0.009, 0.09, 0.9]}\n",
    "y = []\n",
    "CV_y = []\n",
    "for i in tqdm(norm):\n",
    "    pipe2 = make_pipeline(i, MLPClassifier())\n",
    "    grid2 = GridSearchCV(pipe2, param_grid=param_grid, cv =2)\n",
    "    grid2.fit(X_train, y_train)\n",
    "    y.append(grid2.score(X_test, y_test))\n",
    "    CV_y.append(grid2.best_score_)\n",
    "    print(\"Best cross-validation accuracy:\", round(grid2.best_score_,4))\n",
    "    print(\"Best parameters:\", grid2.best_params_)\n",
    "    print(\"Test score:\", round(grid2.score(X_test, y_test),4))"
   ]
  },
  {
   "cell_type": "code",
   "execution_count": 28,
   "metadata": {},
   "outputs": [
    {
     "data": {
      "image/png": "[encoded data removed]",
      "text/plain": [
       "<Figure size 432x288 with 1 Axes>"
      ]
     },
     "metadata": {},
     "output_type": "display_data"
    }
   ],
   "source": [
    "# Plot the results for MLP\n",
    "plt.scatter(x_name, y, color='blue')\n",
    "plt.scatter(x_name,CV_y, color='red')\n",
    "plt.title('MLP performance by standarize methods')\n",
    "plt.ylabel('Accuracy')\n",
    "plt.legend(['Test accuracy', 'Best CV accuracy'])\n",
    "plt.ylim([0.9,1])\n",
    "plt.show()"
   ]
  }
 ],
 "metadata": {
  "kernelspec": {
   "display_name": "Python 3",
   "language": "python",
   "name": "python3"
  },
  "language_info": {
   "codemirror_mode": {
    "name": "ipython",
    "version": 3
   },
   "file_extension": ".py",
   "mimetype": "text/x-python",
   "name": "python",
   "nbconvert_exporter": "python",
   "pygments_lexer": "ipython3",
   "version": "3.6.9"
  }
 },
 "nbformat": 4,
 "nbformat_minor": 2
}
